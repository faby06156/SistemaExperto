{
 "cells": [
  {
   "cell_type": "markdown",
   "metadata": {},
   "source": [
    "## Analizador Lexico\n",
    "Un analizador lexico transforma una entrada en tokens"
   ]
  },
  {
   "cell_type": "code",
   "execution_count": 3,
   "metadata": {},
   "outputs": [],
   "source": [
    "entrada = \"Si si es de dia entonces mañana no es de noche\""
   ]
  },
  {
   "cell_type": "code",
   "execution_count": 4,
   "metadata": {},
   "outputs": [
    {
     "data": {
      "text/plain": [
       "['si',\n",
       " 'si',\n",
       " 'es',\n",
       " 'de',\n",
       " 'dia',\n",
       " 'entonces',\n",
       " 'mañana',\n",
       " 'no',\n",
       " 'es',\n",
       " 'de',\n",
       " 'noche']"
      ]
     },
     "execution_count": 4,
     "metadata": {},
     "output_type": "execute_result"
    }
   ],
   "source": [
    "tokens = entrada.lower().split()\n",
    "tokens"
   ]
  },
  {
   "cell_type": "code",
   "execution_count": 5,
   "metadata": {},
   "outputs": [],
   "source": [
    "from enum import Enum\n",
    "\n",
    "class TipoToken(Enum):\n",
    "    O = 1\n",
    "    Y = 2\n",
    "    S = 3\n",
    "    N = 4\n",
    "    E = 5\n",
    "    P = 6"
   ]
  },
  {
   "cell_type": "code",
   "execution_count": 10,
   "metadata": {
    "vscode": {
     "languageId": "javascript"
    }
   },
   "outputs": [
    {
     "data": {
      "text/plain": [
       "[{'valor': 'si', 'tipo': <TipoToken.S: 3>},\n",
       " {'valor': 'si', 'tipo': <TipoToken.S: 3>},\n",
       " {'valor': 'es', 'tipo': <TipoToken.P: 6>},\n",
       " {'valor': 'de', 'tipo': <TipoToken.P: 6>},\n",
       " {'valor': 'dia', 'tipo': <TipoToken.P: 6>},\n",
       " {'valor': 'entonces', 'tipo': <TipoToken.E: 5>},\n",
       " {'valor': 'mañana', 'tipo': <TipoToken.P: 6>},\n",
       " {'valor': 'no', 'tipo': <TipoToken.N: 4>},\n",
       " {'valor': 'es', 'tipo': <TipoToken.P: 6>},\n",
       " {'valor': 'de', 'tipo': <TipoToken.P: 6>},\n",
       " {'valor': 'noche', 'tipo': <TipoToken.P: 6>}]"
      ]
     },
     "execution_count": 10,
     "metadata": {},
     "output_type": "execute_result"
    }
   ],
   "source": [
    "lexemas = []\n",
    "for token in tokens:\n",
    "    if token == 'o':\n",
    "        lexemas.append({\"valor\" : token , \"tipo\": TipoToken.O })\n",
    "    elif token == 'y':\n",
    "        lexemas.append({\"valor\" : token , \"tipo\": TipoToken.Y})\n",
    "    elif token == 'si':\n",
    "        lexemas.append({\"valor\" : token , \"tipo\": TipoToken.S})\n",
    "    elif token == 'entonces':\n",
    "        lexemas.append({\"valor\" : token , \"tipo\": TipoToken.E})\n",
    "    elif token == 'no':\n",
    "        lexemas.append({\"valor\" : token , \"tipo\": TipoToken.N})\n",
    "    else :\n",
    "        lexemas.append({\"valor\" :token , \"tipo\": TipoToken.P })\n",
    "        \n",
    "lexemas"
   ]
  },
  {
   "cell_type": "code",
   "execution_count": null,
   "metadata": {
    "vscode": {
     "languageId": "javascript"
    }
   },
   "outputs": [],
   "source": []
  },
  {
   "cell_type": "markdown",
   "metadata": {},
   "source": [
    "## Analizador Sintactico"
   ]
  },
  {
   "cell_type": "markdown",
   "metadata": {},
   "source": []
  },
  {
   "cell_type": "code",
   "execution_count": 11,
   "metadata": {},
   "outputs": [],
   "source": [
    "class EstadosAnalizador(Enum):\n",
    "    INICIO = 1\n",
    "    PRECEDENTE = 2\n",
    "    ERROR1 = 3\n",
    "    NEGACION = 4\n",
    "    CONSECUENTE = 5\n",
    "    ATOMO = 6\n",
    "    DISYUNCION = 7\n",
    "    CONJUNCION = 8\n",
    "    ERROR2 = 9\n",
    "    FIN = 10\n",
    "    ATOMO_DISYUNCION = 11\n",
    "    ATOMO_CONJUNCION = 12\n",
    "    ATOMO_NEGACION = 13\n",
    "    ATOMO_CONDICION = 14"
   ]
  },
  {
   "cell_type": "code",
   "execution_count": null,
   "metadata": {},
   "outputs": [],
   "source": [
    "def analizar(lexemas):\n",
    "    EstadoActual = EstadosAnalizador.INICIO\n",
    "\n",
    "    for lexema in lexemas:\n",
    "        if EstadoActual == EstadosAnalizador.INICIO:\n",
    "            if lexema == \"si\":\n",
    "                EstadoActual = EstadosAnalizador.PRECEDENTE\n",
    "            else:\n",
    "                EstadoActual = EstadosAnalizador.ERROR1\n",
    "        elif EstadoActual == EstadosAnalizador.PRECEDENTE:\n",
    "            if lexema == \"no\":\n",
    "                EstadoActual = EstadosAnalizador.NEGACION\n",
    "            elif lexema == \"es\":\n",
    "                EstadoActual = EstadosAnalizador.CONSECUENTE\n",
    "            else:\n",
    "                EstadoActual = EstadosAnalizador.ERROR2\n",
    "        elif EstadoActual == EstadosAnalizador.NEGACION:\n",
    "            EstadoActual = EstadosAnalizador.ATOMO_NEGACION\n",
    "        elif EstadoActual == EstadosAnalizador.CONSECUENTE:\n",
    "            EstadoActual = EstadosAnalizador.ATOMO_CONDICION\n",
    "        elif EstadoActual == EstadosAnalizador.ATOMO:\n",
    "            if lexema == \"entonces\":\n",
    "                EstadoActual = EstadosAnalizador.FIN\n",
    "            elif lexema == \"y\":\n",
    "                EstadoActual = EstadosAnalizador.CONJUNCION\n",
    "            elif lexema == \"o\":\n",
    "                EstadoActual = EstadosAnalizador.DISYUNCION\n",
    "            else:\n",
    "                EstadoActual = EstadosAnalizador.ERROR2\n",
    "        elif EstadoActual == EstadosAnalizador.ATOMO_CONDICION:\n",
    "            if lexema == \"entonces\":\n",
    "                EstadoActual = EstadosAnalizador.FIN\n",
    "            elif lexema == \"y\":\n",
    "                EstadoActual = EstadosAnalizador.CONJUNCION\n",
    "            elif lexema == \"o\":\n",
    "                EstadoActual = EstadosAnalizador.DISYUNCION\n",
    "            else:\n",
    "                EstadoActual = EstadosAnalizador.ERROR2\n",
    "        elif EstadoActual == EstadosAnalizador.ATOMO_NEGACION:\n",
    "            if lexema == \"entonces\":\n",
    "                EstadoActual = EstadosAnalizador.FIN\n",
    "            elif lexema == \"y\":\n",
    "                EstadoActual = EstadosAnalizador.CONJUNCION\n",
    "            elif lexema == \"o\":\n",
    "                EstadoActual = EstadosAnalizador.DISYUNCION\n",
    "            else:\n",
    "                EstadoActual = EstadosAnalizador.ERROR2\n",
    "        elif EstadoActual == EstadosAnalizador.CONJUNCION:\n",
    "            EstadoActual = EstadosAnalizador.ATOMO_CONJUNCION\n",
    "        elif EstadoActual == EstadosAnalizador.DISYUNCION:\n",
    "            EstadoActual = EstadosAnalizador.ATOMO_DISYUNCION\n",
    "        elif EstadoActual == EstadosAnalizador.ATOMO_CONJUNCION:\n",
    "            if lexema == \"entonces\":\n",
    "                EstadoActual = EstadosAnalizador.FIN\n",
    "            else:\n",
    "                EstadoActual = EstadosAnalizador.ERROR2\n",
    "        elif EstadoActual == EstadosAnalizador.ATOMO_DISYUNCION:\n",
    "            if lexema == \"entonces\":\n",
    "                EstadoActual = EstadosAnalizador.FIN\n",
    "            else:\n",
    "                EstadoActual = EstadosAnalizador.ERROR2\n",
    "        elif EstadoActual == EstadosAnalizador.ERROR1:\n",
    "            break\n",
    "        elif EstadoActual == EstadosAnalizador.ERROR2:\n",
    "            break\n",
    "        elif EstadoActual == EstadosAnalizador.FIN:\n",
    "            break\n",
    "\n",
    "    return EstadoActual"
   ]
  },
  {
   "cell_type": "code",
   "execution_count": 13,
   "metadata": {},
   "outputs": [
    {
     "name": "stdout",
     "output_type": "stream",
     "text": [
      "EstadosAnalizador.ERROR1\n"
     ]
    }
   ],
   "source": [
    "pruebas = [\n",
    "    ([\"si\", \"es\", \"entonces\"], EstadosAnalizador.FIN),\n",
    "    ([\"si\", \"es\", \"y\", \"es\", \"entonces\"], EstadosAnalizador.FIN),\n",
    "    ([\"si\", \"es\", \"o\", \"es\", \"entonces\"], EstadosAnalizador.FIN),\n",
    "    ([\"si\", \"no\", \"es\", \"entonces\"], EstadosAnalizador.FIN),\n",
    "    ([\"si\", \"es\", \"no\", \"entonces\"], EstadosAnalizador.ERROR2)\n",
    "]\n",
    "\n",
    "# Ejecución de las pruebas\n",
    "for i, (lexemas, estado_esperado) in enumerate(pruebas):\n",
    "    resultado = analizar(lexemas)\n",
    "    print(f\"Prueba {i + 1}: {'Éxito' if resultado == estado_esperado else 'Fallo'} - Resultado: {resultado}, Esperado: {estado_esperado}\")"
   ]
  }
 ],
 "metadata": {
  "kernelspec": {
   "display_name": ".venv",
   "language": "python",
   "name": "python3"
  },
  "language_info": {
   "codemirror_mode": {
    "name": "ipython",
    "version": 3
   },
   "file_extension": ".py",
   "mimetype": "text/x-python",
   "name": "python",
   "nbconvert_exporter": "python",
   "pygments_lexer": "ipython3",
   "version": "3.11.8"
  }
 },
 "nbformat": 4,
 "nbformat_minor": 2
}
