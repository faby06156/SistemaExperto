{
 "cells": [
  {
   "cell_type": "markdown",
   "metadata": {},
   "source": [
    "## Analizador Lexico\n",
    "Un analizador lexico transforma una entrada en tokens"
   ]
  },
  {
   "cell_type": "code",
   "execution_count": 11,
   "metadata": {},
   "outputs": [],
   "source": [
    "entrada = \"Si si es de dia entonces mañana no es de noche\""
   ]
  },
  {
   "cell_type": "code",
   "execution_count": 12,
   "metadata": {},
   "outputs": [],
   "source": [
    "#tokens = entrada.lower().split()\n",
    "#tokens"
   ]
  },
  {
   "cell_type": "code",
   "execution_count": 13,
   "metadata": {},
   "outputs": [],
   "source": [
    "from enum import Enum\n",
    "\n",
    "class TipoToken(Enum):\n",
    "    O = 1\n",
    "    Y = 2\n",
    "    S = 3\n",
    "    N = 4\n",
    "    E = 5\n",
    "    P = 6"
   ]
  },
  {
   "cell_type": "code",
   "execution_count": 14,
   "metadata": {
    "vscode": {
     "languageId": "javascript"
    }
   },
   "outputs": [
    {
     "name": "stdout",
     "output_type": "stream",
     "text": [
      "[{'valor': 'si', 'tipo': <TipoToken.S: 3>}, {'valor': 'si', 'tipo': <TipoToken.S: 3>}, {'valor': 'es', 'tipo': <TipoToken.P: 6>}, {'valor': 'de', 'tipo': <TipoToken.P: 6>}, {'valor': 'dia', 'tipo': <TipoToken.P: 6>}, {'valor': 'entonces', 'tipo': <TipoToken.E: 5>}, {'valor': 'mañana', 'tipo': <TipoToken.P: 6>}, {'valor': 'no', 'tipo': <TipoToken.N: 4>}, {'valor': 'es', 'tipo': <TipoToken.P: 6>}, {'valor': 'de', 'tipo': <TipoToken.P: 6>}, {'valor': 'noche', 'tipo': <TipoToken.P: 6>}]\n"
     ]
    }
   ],
   "source": [
    "def analizador_lexico(entrada : str) -> list:\n",
    "    tokens = entrada.lower().split()\n",
    "    lexemas = []\n",
    "    for token in tokens:\n",
    "        if token == 'o':\n",
    "            lexemas.append({\"valor\" : token , \"tipo\": TipoToken.O })\n",
    "        elif token == 'y':\n",
    "            lexemas.append({\"valor\" : token , \"tipo\": TipoToken.Y})\n",
    "        elif token == 'si':\n",
    "            lexemas.append({\"valor\" : token , \"tipo\": TipoToken.S})\n",
    "        elif token == 'entonces':\n",
    "            lexemas.append({\"valor\" : token , \"tipo\": TipoToken.E})\n",
    "        elif token == 'no':\n",
    "            lexemas.append({\"valor\" : token , \"tipo\": TipoToken.N})\n",
    "        else :\n",
    "            lexemas.append({\"valor\" :token , \"tipo\": TipoToken.P })\n",
    "            \n",
    "    return lexemas\n",
    "result = analizador_lexico(entrada)\n",
    "print(result)"
   ]
  },
  {
   "cell_type": "markdown",
   "metadata": {},
   "source": [
    "## Analizador Sintactico"
   ]
  },
  {
   "cell_type": "markdown",
   "metadata": {},
   "source": []
  },
  {
   "cell_type": "code",
   "execution_count": 15,
   "metadata": {},
   "outputs": [],
   "source": [
    "class EstadosAnalizador(Enum):\n",
    "    INICIO = 1\n",
    "    ATOMO1 = 2\n",
    "    ATOMO2 = 15\n",
    "    ATOMO3 = 16\n",
    "    ATOMO4 = 17\n",
    "    ATOMO5 = 18\n",
    "    ATOMO6 = 19\n",
    "    ATOMO7 =22\n",
    "    PRECEDENTE = 2\n",
    "    ERROR1 = 3\n",
    "    ERROR2 = 11\n",
    "    ERROR3 = 12\n",
    "    ERROR4 = 13\n",
    "    ERROR5 = 14\n",
    "    ERROR6 = 20\n",
    "    ERROR7 = 21\n",
    "    NEGACION = 4\n",
    "    CONSECUENTE = 5\n",
    "    ATOMO = 6\n",
    "    DISYUNCION = 7\n",
    "    CONJUNCION = 8\n",
    "    FIN = 10"
   ]
  },
  {
   "cell_type": "code",
   "execution_count": 16,
   "metadata": {},
   "outputs": [],
   "source": [
    "def analizador_sintactico(lexemas : list):  \n",
    "    EstadoActual = EstadosAnalizador.INICIO\n",
    "\n",
    "    for l in lexemas:\n",
    "        lexema = l['tipo']\n",
    "        if EstadoActual == EstadosAnalizador.INICIO:\n",
    "            #PRECEDENTE\n",
    "            if lexema == TipoToken.S:\n",
    "                EstadoActual = EstadosAnalizador.PRECEDENTE\n",
    "            elif lexema == TipoToken.Y or lexema == TipoToken.O or lexema == TipoToken.E:\n",
    "                EstadoActual = EstadosAnalizador.ERROR2\n",
    "            elif lexema == TipoToken.N:\n",
    "                EstadoActual = EstadosAnalizador.NEGACION\n",
    "            else:\n",
    "                EstadoActual = EstadosAnalizador.ATOMO2\n",
    "                #CONSECUENTE\n",
    "                if lexema == TipoToken.E:\n",
    "                    EstadoActual = EstadosAnalizador.CONSECUENTE\n",
    "                elif lexema == TipoToken.Y or lexema == TipoToken.O or lexema == TipoToken.E:\n",
    "                    EstadoActual = EstadosAnalizador.ERROR3\n",
    "                elif lexema == TipoToken.N:\n",
    "                    EstadoActual = EstadosAnalizador.NEGACION\n",
    "                else:\n",
    "                    EstadoActual = EstadosAnalizador.ATOMO3\n",
    "        elif EstadoActual == EstadosAnalizador.ATOMO1:   \n",
    "            #CONJUNCION\n",
    "            if lexema == TipoToken.Y:\n",
    "                EstadoActual = EstadosAnalizador.CONJUNCION\n",
    "            elif lexema == TipoToken.S or lexema == TipoToken.E or lexema == TipoToken.Y or lexema == TipoToken.O:\n",
    "                EstadoActual = EstadosAnalizador.ERROR4\n",
    "            elif lexema == TipoToken.N:\n",
    "                EstadoActual = EstadosAnalizador.NEGACION\n",
    "            else:\n",
    "                EstadoActual = EstadosAnalizador.ATOMO5\n",
    "            #DISYUNCION\n",
    "            if lexema == TipoToken.O:\n",
    "                EstadoActual = EstadosAnalizador.DISYUNCION\n",
    "            elif lexema == TipoToken.S or lexema == TipoToken.E or lexema == TipoToken.Y or lexema == TipoToken.O:\n",
    "                EstadoActual = EstadosAnalizador.ERROR5\n",
    "            elif lexema == TipoToken.N:\n",
    "                EstadoActual = EstadosAnalizador.NEGACION\n",
    "            else:\n",
    "                EstadoActual = EstadosAnalizador.ATOMO6\n",
    "            #NEGACION\n",
    "            if lexema == TipoToken.N:\n",
    "                EstadoActual = EstadosAnalizador.NEGACION\n",
    "            elif lexema == TipoToken.S or lexema == TipoToken.E or lexema == TipoToken.Y or lexema == TipoToken.O:\n",
    "                EstadoActual = EstadosAnalizador.ERROR6\n",
    "            else:\n",
    "                EstadoActual = EstadosAnalizador.ATOMO7\n",
    "        elif EstadoActual == EstadosAnalizador.ERROR1:\n",
    "            break\n",
    "        elif EstadoActual == EstadosAnalizador.FIN:\n",
    "            break     \n",
    "    return EstadoActual  "
   ]
  },
  {
   "cell_type": "code",
   "execution_count": 17,
   "metadata": {},
   "outputs": [
    {
     "name": "stdout",
     "output_type": "stream",
     "text": [
      "Si es soleado entonces es un buen día\n",
      "Si está nublado o hace frío entonces puede llover\n",
      "Si llueve entonces no es soleado\n",
      "Si hay tormenta entonces no es seguro\n",
      "Si es de noche entonces no hay sol\n",
      "Si hace frío entonces lleva abrigo\n",
      "Si hace calor entonces usa protector solar\n",
      "Si nieva entonces hace mucho frío\n",
      "Si hay viento entonces vuela el polvo\n",
      "Si es soleado y hace calor entonces es verano\n",
      "\n"
     ]
    }
   ],
   "source": [
    "archivo = open('Reglas.txt', 'r')\n",
    "contenido = archivo.read()\n",
    "archivo.close()\n",
    "\n",
    "print(contenido)"
   ]
  },
  {
   "cell_type": "code",
   "execution_count": 18,
   "metadata": {},
   "outputs": [],
   "source": [
    "class Nodo:\n",
    "    def __init__(self, dato):\n",
    "        # \"dato\" puede ser de cualquier tipo, incluso un objeto si se sobrescriben los operadores de comparación\n",
    "        self.dato = dato\n",
    "        self.izquierda = None\n",
    "        self.derecha = None"
   ]
  },
  {
   "cell_type": "code",
   "execution_count": 19,
   "metadata": {},
   "outputs": [],
   "source": [
    "class Arbol:\n",
    "    # Funciones privadas\n",
    "    def __init__(self, dato):\n",
    "        self.raiz = Nodo(dato)\n",
    "\n",
    "    def __agregar_recursivo(self, nodo, dato):\n",
    "        if dato < nodo.dato:\n",
    "            if nodo.izquierda is None:\n",
    "                nodo.izquierda = Nodo(dato)\n",
    "            else:\n",
    "                self.__agregar_recursivo(nodo.izquierda, dato)\n",
    "        else:\n",
    "            if nodo.derecha is None:\n",
    "                nodo.derecha = Nodo(dato)\n",
    "            else:\n",
    "                self.__agregar_recursivo(nodo.derecha, dato)\n",
    "\n",
    "    def __inorden_recursivo(self, nodo):\n",
    "        if nodo is not None:\n",
    "            self.__inorden_recursivo(nodo.izquierda)\n",
    "            print(nodo.dato, end=\", \")\n",
    "            self.__inorden_recursivo(nodo.derecha)\n",
    "\n",
    "    def __preorden_recursivo(self, nodo):\n",
    "        if nodo is not None:\n",
    "            print(nodo.dato, end=\", \")\n",
    "            self.__preorden_recursivo(nodo.izquierda)\n",
    "            self.__preorden_recursivo(nodo.derecha)\n",
    "\n",
    "    def __postorden_recursivo(self, nodo):\n",
    "        if nodo is not None:\n",
    "            self.__postorden_recursivo(nodo.izquierda)\n",
    "            self.__postorden_recursivo(nodo.derecha)\n",
    "            print(nodo.dato, end=\", \")\n",
    "\n",
    "    def __buscar(self, nodo, busqueda):\n",
    "        if nodo is None:\n",
    "            return None\n",
    "        if nodo.dato == busqueda:\n",
    "            return nodo\n",
    "        if busqueda < nodo.dato:\n",
    "            return self.__buscar(nodo.izquierda, busqueda)\n",
    "        else:\n",
    "            return self.__buscar(nodo.derecha, busqueda)\n",
    "\n",
    "    # Funciones públicas\n",
    "\n",
    "    def agregar(self, dato):\n",
    "        self.__agregar_recursivo(self.raiz, dato)\n",
    "\n",
    "    def inorden(self):\n",
    "        print(\"Imprimiendo árbol inorden: \")\n",
    "        self.__inorden_recursivo(self.raiz)\n",
    "        print(\"\")\n",
    "\n",
    "    def preorden(self):\n",
    "        print(\"Imprimiendo árbol preorden: \")\n",
    "        self.__preorden_recursivo(self.raiz)\n",
    "        print(\"\")\n",
    "\n",
    "    def postorden(self):\n",
    "        print(\"Imprimiendo árbol postorden: \")\n",
    "        self.__postorden_recursivo(self.raiz)\n",
    "        print(\"\")\n",
    "\n",
    "    def buscar(self, busqueda):\n",
    "        return self.__buscar(self.raiz, busqueda)"
   ]
  },
  {
   "cell_type": "code",
   "execution_count": 20,
   "metadata": {},
   "outputs": [
    {
     "name": "stdout",
     "output_type": "stream",
     "text": [
      "Imprimiendo árbol preorden: \n",
      "soleado, nublado, hace mucho frío, hace calor entonces es verano, lleva abrigo, protector solar, vuela el polvo, \n"
     ]
    },
    {
     "name": "stdout",
     "output_type": "stream",
     "text": [
      "asd no existe\n"
     ]
    }
   ],
   "source": [
    "arbol = Arbol(\"soleado\")\n",
    "arbol.agregar(\"nublado\")\n",
    "arbol.agregar(\"hace mucho frío\")\n",
    "arbol.agregar(\"hace calor entonces es verano\")\n",
    "arbol.agregar(\"lleva abrigo\")\n",
    "arbol.agregar(\"protector solar\")\n",
    "arbol.agregar(\"vuela el polvo\")\n",
    "#nombre = input(\"Ingresa algo para agregar al árbol: \")\n",
    "#arbol.agregar(nombre)\n",
    "arbol.preorden()\n",
    "# Búsqueda\n",
    "busqueda = input(\"Busca algo en el árbol: \")\n",
    "nodo = arbol.buscar(busqueda)\n",
    "if nodo is None:\n",
    "    print(f\"{busqueda} no existe\")\n",
    "else:\n",
    "    print(f\"{busqueda} sí existe\")\n",
    "    # Aquí tienes en \"nodo\" toda la información del nodo. Tanto su izquierda, derecha, dato y otros atributos que le hayas agregado"
   ]
  },
  {
   "cell_type": "markdown",
   "metadata": {},
   "source": []
  }
 ],
 "metadata": {
  "kernelspec": {
   "display_name": ".venv",
   "language": "python",
   "name": "python3"
  },
  "language_info": {
   "codemirror_mode": {
    "name": "ipython",
    "version": 3
   },
   "file_extension": ".py",
   "mimetype": "text/x-python",
   "name": "python",
   "nbconvert_exporter": "python",
   "pygments_lexer": "ipython3",
   "version": "3.10.13"
  }
 },
 "nbformat": 4,
 "nbformat_minor": 2
}
