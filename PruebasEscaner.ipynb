{
 "cells": [
  {
   "cell_type": "markdown",
   "metadata": {},
   "source": [
    "## Analizador Lexico\n",
    "Un analizador lexico transforma una entrada en tokens"
   ]
  },
  {
   "cell_type": "code",
   "execution_count": 41,
   "metadata": {},
   "outputs": [],
   "source": [
    "entrada = \"Si si es de dia entonces mañana no es de noche\""
   ]
  },
  {
   "cell_type": "code",
   "execution_count": 42,
   "metadata": {},
   "outputs": [
    {
     "data": {
      "text/plain": [
       "['si',\n",
       " 'si',\n",
       " 'es',\n",
       " 'de',\n",
       " 'dia',\n",
       " 'entonces',\n",
       " 'mañana',\n",
       " 'no',\n",
       " 'es',\n",
       " 'de',\n",
       " 'noche']"
      ]
     },
     "execution_count": 42,
     "metadata": {},
     "output_type": "execute_result"
    }
   ],
   "source": [
    "tokens = entrada.lower().split()\n",
    "tokens"
   ]
  },
  {
   "cell_type": "code",
   "execution_count": 43,
   "metadata": {},
   "outputs": [],
   "source": [
    "from enum import Enum\n",
    "\n",
    "class TipoToken(Enum):\n",
    "    O = 1\n",
    "    Y = 2\n",
    "    S = 3\n",
    "    N = 4\n",
    "    E = 5\n",
    "    P = 6"
   ]
  },
  {
   "cell_type": "code",
   "execution_count": 44,
   "metadata": {},
   "outputs": [
    {
     "data": {
      "text/plain": [
       "[{'valor': 'si', 'tipo': <TipoToken.S: 3>},\n",
       " {'valor': 'si', 'tipo': <TipoToken.S: 3>},\n",
       " {'valor': 'es', 'tipo': <TipoToken.P: 6>},\n",
       " {'valor': 'de', 'tipo': <TipoToken.P: 6>},\n",
       " {'valor': 'dia', 'tipo': <TipoToken.P: 6>},\n",
       " {'valor': 'entonces', 'tipo': <TipoToken.E: 5>},\n",
       " {'valor': 'mañana', 'tipo': <TipoToken.P: 6>},\n",
       " {'valor': 'no', 'tipo': <TipoToken.N: 4>},\n",
       " {'valor': 'es', 'tipo': <TipoToken.P: 6>},\n",
       " {'valor': 'de', 'tipo': <TipoToken.P: 6>},\n",
       " {'valor': 'noche', 'tipo': <TipoToken.P: 6>}]"
      ]
     },
     "execution_count": 44,
     "metadata": {},
     "output_type": "execute_result"
    }
   ],
   "source": [
    "lexemas = []\n",
    "for token in tokens:\n",
    "    if token == 'o':\n",
    "        lexemas.append({\"valor\" : token , \"tipo\": TipoToken.O })\n",
    "    elif token == 'y':\n",
    "        lexemas.append({\"valor\" : token , \"tipo\": TipoToken.Y})\n",
    "    elif token == 'si':\n",
    "        lexemas.append({\"valor\" : token , \"tipo\": TipoToken.S})\n",
    "    elif token == 'entonces':\n",
    "        lexemas.append({\"valor\" : token , \"tipo\": TipoToken.E})\n",
    "    elif token == 'no':\n",
    "        lexemas.append({\"valor\" : token , \"tipo\": TipoToken.N})\n",
    "    else :\n",
    "        lexemas.append({\"valor\" :token , \"tipo\": TipoToken.P })\n",
    "        \n",
    "lexemas"
   ]
  },
  {
   "cell_type": "code",
   "execution_count": null,
   "metadata": {
    "vscode": {
     "languageId": "javascript"
    }
   },
   "outputs": [],
   "source": []
  },
  {
   "cell_type": "markdown",
   "metadata": {},
   "source": [
    "## Analizador Sintactico"
   ]
  },
  {
   "cell_type": "markdown",
   "metadata": {},
   "source": []
  },
  {
   "cell_type": "code",
   "execution_count": 45,
   "metadata": {},
   "outputs": [],
   "source": [
    "class EstadosAnalizador(Enum):\n",
    "    INICIO = 1\n",
    "    ATOMO1 = 2\n",
    "    ATOMO2 = 15\n",
    "    ATOMO3 = 16\n",
    "    ATOMO4 = 17\n",
    "    ATOMO5 = 18\n",
    "    ATOMO6 = 19\n",
    "    ATOMO7 =22\n",
    "    PRECEDENTE = 2\n",
    "    ERROR1 = 3\n",
    "    ERROR2 = 11\n",
    "    ERROR3 = 12\n",
    "    ERROR4 = 13\n",
    "    ERROR5 = 14\n",
    "    ERROR6 = 20\n",
    "    ERROR7 = 21\n",
    "    NEGACION = 4\n",
    "    CONSECUENTE = 5\n",
    "    ATOMO = 6\n",
    "    DISYUNCION = 7\n",
    "    CONJUNCION = 8\n",
    "    FIN = 10"
   ]
  },
  {
   "cell_type": "code",
   "execution_count": 46,
   "metadata": {},
   "outputs": [],
   "source": [
    "def analizador_sintactico(lexemas : list):\n",
    "    # Establecer inicio como el estado inicial\n",
    "    EstadoActual = EstadosAnalizador.INICIO\n",
    "\n",
    "    # Iterar sobre cada lexema\n",
    "    for l in lexemas:\n",
    "        lexema = l[\"tipo\"]\n",
    "        if EstadoActual == EstadosAnalizador.INICIO:\n",
    "            if lexema == TipoToken.S:\n",
    "                EstadoActual = EstadosAnalizador.PRECEDENTE\n",
    "            else:\n",
    "                EstadoActual = EstadosAnalizador.ERROR1\n",
    "        elif EstadoActual == EstadosAnalizador.PRECEDENTE:\n",
    "            if lexema == \"no\":\n",
    "                EstadoActual = EstadosAnalizador.NEGACION\n",
    "            elif lexema == \"es\":\n",
    "                EstadoActual = EstadosAnalizador.CONSECUENTE\n",
    "            else:\n",
    "                EstadoActual = EstadosAnalizador.ERROR2\n",
    "        elif EstadoActual == EstadosAnalizador.NEGACION:\n",
    "            if lexema == \"de\":\n",
    "                EstadoActual = EstadosAnalizador.ATOMO\n",
    "            else:\n",
    "                EstadoActual = EstadosAnalizador.ERROR2\n",
    "        elif EstadoActual == EstadosAnalizador.CONSECUENTE:\n",
    "            if lexema == \"de\":\n",
    "                EstadoActual = EstadosAnalizador.ATOMO\n",
    "            else:\n",
    "                EstadoActual = EstadosAnalizador.ERROR2\n",
    "        elif EstadoActual == EstadosAnalizador.ATOMO:\n",
    "            if lexema == \"entonces\":\n",
    "                EstadoActual = EstadosAnalizador.FIN\n",
    "            elif lexema == \"y\":\n",
    "                EstadoActual = EstadosAnalizador.CONJUNCION\n",
    "            elif lexema == \"o\":\n",
    "                EstadoActual = EstadosAnalizador.DISYUNCION\n",
    "            else:\n",
    "                EstadoActual = EstadosAnalizador.ERROR2\n",
    "        elif EstadoActual == EstadosAnalizador.CONJUNCION:\n",
    "            if lexema == \"de\":\n",
    "                EstadoActual = EstadosAnalizador.ATOMO\n",
    "            else:\n",
    "                EstadoActual = EstadosAnalizador.ERROR2\n",
    "        elif EstadoActual == EstadosAnalizador.DISYUNCION:\n",
    "            if lexema == \"de\":\n",
    "                EstadoActual = EstadosAnalizador.ATOMO\n",
    "            else:\n",
    "                EstadoActual = EstadosAnalizador.ERROR2\n",
    "        elif EstadoActual == EstadosAnalizador.ERROR1:\n",
    "            break\n",
    "        elif EstadoActual == EstadosAnalizador.ERROR2:\n",
    "            break\n",
    "        elif EstadoActual == EstadosAnalizador.FIN:\n",
    "            break\n",
    "    return EstadoActual"
   ]
  },
  {
   "cell_type": "code",
   "execution_count": 47,
   "metadata": {},
   "outputs": [
    {
     "name": "stdout",
     "output_type": "stream",
     "text": [
      "Si es soleado entonces es un buen día\n",
      "Si está nublado o hace frío entonces puede llover\n",
      "Si llueve entonces no es soleado\n",
      "Si hay tormenta entonces no es seguro\n",
      "Si es de noche entonces no hay sol\n",
      "Si hace frío entonces lleva abrigo\n",
      "Si hace calor entonces usa protector solar\n",
      "Si nieva entonces hace mucho frío\n",
      "Si hay viento entonces vuela el polvo\n",
      "Si es soleado y hace calor entonces es verano\n",
      "\n"
     ]
    }
   ],
   "source": [
    "archivo = open('Reglas.txt', 'r')\n",
    "contenido = archivo.read()\n",
    "archivo.close()\n",
    "\n",
    "print(contenido)"
   ]
  },
  {
   "cell_type": "code",
   "execution_count": 1,
   "metadata": {},
   "outputs": [
    {
     "name": "stdout",
     "output_type": "stream",
     "text": [
      "1. S → B\n",
      "2. N ∨ F → L\n",
      "3. L → ¬S\n",
      "4. T → ¬P\n",
      "5. D → ¬H\n",
      "6. F → A\n",
      "7. C → U\n",
      "8. N → F\n",
      "9. V → D\n",
      "10. S ∧ C → V\n"
     ]
    }
   ],
   "source": [
    "archivo = open('Reglas2.txt', 'r')\n",
    "contenido = archivo.read()\n",
    "archivo.close()\n",
    "\n",
    "print(contenido)"
   ]
  },
  {
   "cell_type": "code",
   "execution_count": 48,
   "metadata": {},
   "outputs": [],
   "source": [
    "class Nodo:\n",
    "    def __init__(self, dato):\n",
    "        # \"dato\" puede ser de cualquier tipo, incluso un objeto si se sobrescriben los operadores de comparación\n",
    "        self.dato = dato\n",
    "        self.izquierda = None\n",
    "        self.derecha = None"
   ]
  },
  {
   "cell_type": "code",
   "execution_count": 49,
   "metadata": {},
   "outputs": [],
   "source": [
    "class Arbol:\n",
    "    # Funciones privadas\n",
    "    def __init__(self, dato):\n",
    "        self.raiz = Nodo(dato)\n",
    "\n",
    "    def __agregar_recursivo(self, nodo, dato):\n",
    "        if dato < nodo.dato:\n",
    "            if nodo.izquierda is None:\n",
    "                nodo.izquierda = Nodo(dato)\n",
    "            else:\n",
    "                self.__agregar_recursivo(nodo.izquierda, dato)\n",
    "        else:\n",
    "            if nodo.derecha is None:\n",
    "                nodo.derecha = Nodo(dato)\n",
    "            else:\n",
    "                self.__agregar_recursivo(nodo.derecha, dato)\n",
    "\n",
    "    def __inorden_recursivo(self, nodo):\n",
    "        if nodo is not None:\n",
    "            self.__inorden_recursivo(nodo.izquierda)\n",
    "            print(nodo.dato, end=\", \")\n",
    "            self.__inorden_recursivo(nodo.derecha)\n",
    "\n",
    "    def __preorden_recursivo(self, nodo):\n",
    "        if nodo is not None:\n",
    "            print(nodo.dato, end=\", \")\n",
    "            self.__preorden_recursivo(nodo.izquierda)\n",
    "            self.__preorden_recursivo(nodo.derecha)\n",
    "\n",
    "    def __postorden_recursivo(self, nodo):\n",
    "        if nodo is not None:\n",
    "            self.__postorden_recursivo(nodo.izquierda)\n",
    "            self.__postorden_recursivo(nodo.derecha)\n",
    "            print(nodo.dato, end=\", \")\n",
    "\n",
    "    def __buscar(self, nodo, busqueda):\n",
    "        if nodo is None:\n",
    "            return None\n",
    "        if nodo.dato == busqueda:\n",
    "            return nodo\n",
    "        if busqueda < nodo.dato:\n",
    "            return self.__buscar(nodo.izquierda, busqueda)\n",
    "        else:\n",
    "            return self.__buscar(nodo.derecha, busqueda)\n",
    "\n",
    "    # Funciones públicas\n",
    "\n",
    "    def agregar(self, dato):\n",
    "        self.__agregar_recursivo(self.raiz, dato)\n",
    "\n",
    "    def inorden(self):\n",
    "        print(\"Imprimiendo árbol inorden: \")\n",
    "        self.__inorden_recursivo(self.raiz)\n",
    "        print(\"\")\n",
    "\n",
    "    def preorden(self):\n",
    "        print(\"Imprimiendo árbol preorden: \")\n",
    "        self.__preorden_recursivo(self.raiz)\n",
    "        print(\"\")\n",
    "\n",
    "    def postorden(self):\n",
    "        print(\"Imprimiendo árbol postorden: \")\n",
    "        self.__postorden_recursivo(self.raiz)\n",
    "        print(\"\")\n",
    "\n",
    "    def buscar(self, busqueda):\n",
    "        return self.__buscar(self.raiz, busqueda)"
   ]
  },
  {
   "cell_type": "code",
   "execution_count": 50,
   "metadata": {},
   "outputs": [
    {
     "name": "stdout",
     "output_type": "stream",
     "text": [
      "Imprimiendo árbol preorden: \n",
      "soleado, nublado, hace mucho frío, hace calor entonces es verano, lleva abrigo, protector solar, vuela el polvo, \n"
     ]
    },
    {
     "name": "stdout",
     "output_type": "stream",
     "text": [
      "asd no existe\n"
     ]
    }
   ],
   "source": [
    "arbol = Arbol(\"soleado\")\n",
    "arbol.agregar(\"nublado\")\n",
    "arbol.agregar(\"hace mucho frío\")\n",
    "arbol.agregar(\"hace calor entonces es verano\")\n",
    "arbol.agregar(\"lleva abrigo\")\n",
    "arbol.agregar(\"protector solar\")\n",
    "arbol.agregar(\"vuela el polvo\")\n",
    "#nombre = input(\"Ingresa algo para agregar al árbol: \")\n",
    "#arbol.agregar(nombre)\n",
    "arbol.preorden()\n",
    "# Búsqueda\n",
    "busqueda = input(\"Busca algo en el árbol: \")\n",
    "nodo = arbol.buscar(busqueda)\n",
    "if nodo is None:\n",
    "    print(f\"{busqueda} no existe\")\n",
    "else:\n",
    "    print(f\"{busqueda} sí existe\")\n",
    "    # Aquí tienes en \"nodo\" toda la información del nodo. Tanto su izquierda, derecha, dato y otros atributos que le hayas agregado"
   ]
  },
  {
   "cell_type": "markdown",
   "metadata": {},
   "source": []
  }
 ],
 "metadata": {
  "kernelspec": {
   "display_name": ".venv",
   "language": "python",
   "name": "python3"
  },
  "language_info": {
   "codemirror_mode": {
    "name": "ipython",
    "version": 3
   },
   "file_extension": ".py",
   "mimetype": "text/x-python",
   "name": "python",
   "nbconvert_exporter": "python",
   "pygments_lexer": "ipython3",
   "version": "3.10.13"
  }
 },
 "nbformat": 4,
 "nbformat_minor": 2
}
